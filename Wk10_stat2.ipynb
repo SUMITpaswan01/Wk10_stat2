{
 "cells": [
  {
   "cell_type": "markdown",
   "id": "732557e8-98a1-4ddb-8cb7-f0d7548e3926",
   "metadata": {},
   "source": [
    "Q1. What are the three measures of central tendency?"
   ]
  },
  {
   "cell_type": "code",
   "execution_count": 1,
   "id": "104fce75-7ce0-4df2-9824-ee1aa46a93b7",
   "metadata": {},
   "outputs": [],
   "source": [
    "## The three measure of central tendency are :---\n",
    "##(1)Mean\n",
    "##(2)Median\n",
    "##(3)Mode"
   ]
  },
  {
   "cell_type": "markdown",
   "id": "6a8cc471-12c0-42ad-9774-6b30f1a83bf9",
   "metadata": {},
   "source": [
    "Q2. What is the difference between the mean, median, and mode? How are they used to measure the\n",
    "central tendency of a dataset?"
   ]
  },
  {
   "cell_type": "code",
   "execution_count": 2,
   "id": "d03394ba-f0a6-412f-9a8e-6e7fc05fa9a5",
   "metadata": {},
   "outputs": [],
   "source": [
    "## Mean: Mean refers to the average or most common value in a data set\n",
    "## Mode: mode is the most frequent value\n",
    "## Median: median is the middle score for the data set in increasing order"
   ]
  },
  {
   "cell_type": "markdown",
   "id": "bb28cc50-64cb-4036-a88f-cc3270b60777",
   "metadata": {},
   "source": [
    "Q3. Measure the three measures of central tendency for the given height data:\n",
    "\n",
    "\n",
    "[178,177,176,177,178.2,178,175,179,180,175,178.9,176.2,177,172.5,178,176.5]"
   ]
  },
  {
   "cell_type": "code",
   "execution_count": 12,
   "id": "ad5a1125-441f-4bcc-be61-6a7fa7e1cf63",
   "metadata": {},
   "outputs": [],
   "source": [
    "import numpy as np\n",
    "list = [178,177,176,177,178.2,178,175,179,180,175,178.9,176.2,177,172.5,178,176.5]\n",
    "arr = np.array(list)"
   ]
  },
  {
   "cell_type": "code",
   "execution_count": 17,
   "id": "a675907a-92af-41d1-a074-30fed943641a",
   "metadata": {},
   "outputs": [
    {
     "data": {
      "text/plain": [
       "177.01875"
      ]
     },
     "execution_count": 17,
     "metadata": {},
     "output_type": "execute_result"
    }
   ],
   "source": [
    "##Mean \n",
    "np.mean(arr)"
   ]
  },
  {
   "cell_type": "code",
   "execution_count": 18,
   "id": "38effec0-887e-4ebf-8389-7ecd32f4b2c7",
   "metadata": {},
   "outputs": [
    {
     "data": {
      "text/plain": [
       "177.0"
      ]
     },
     "execution_count": 18,
     "metadata": {},
     "output_type": "execute_result"
    }
   ],
   "source": [
    "##Median\n",
    "np.median(arr)"
   ]
  },
  {
   "cell_type": "code",
   "execution_count": 29,
   "id": "83584494-7d8b-41f9-a234-544f630516fd",
   "metadata": {},
   "outputs": [
    {
     "data": {
      "text/plain": [
       "178.0"
      ]
     },
     "execution_count": 29,
     "metadata": {},
     "output_type": "execute_result"
    }
   ],
   "source": [
    "##Mode\n",
    "import statistics as st\n",
    "m = st.mode(arr)\n",
    "m"
   ]
  },
  {
   "cell_type": "markdown",
   "id": "3cd08955-4ce2-4729-9589-f7bf4668f7cf",
   "metadata": {},
   "source": [
    "Q4. Find the standard deviation for the given data:\n",
    "\n",
    "\n",
    "[178,177,176,177,178.2,178,175,179,180,175,178.9,176.2,177,172.5,178,176.5]"
   ]
  },
  {
   "cell_type": "code",
   "execution_count": 31,
   "id": "6dc5c36e-eca9-4acd-83b4-66982c5c7fde",
   "metadata": {},
   "outputs": [
    {
     "data": {
      "text/plain": [
       "1.7885814036548633"
      ]
     },
     "execution_count": 31,
     "metadata": {},
     "output_type": "execute_result"
    }
   ],
   "source": [
    "import numpy as np\n",
    "import statistics as st\n",
    "l = [178,177,176,177,178.2,178,175,179,180,175,178.9,176.2,177,172.5,178,176.5]\n",
    "arr1 = np.array(l)\n",
    "std = np.std(arr1)\n",
    "std"
   ]
  },
  {
   "cell_type": "markdown",
   "id": "87b2ac12-d79c-493f-a06d-fa49abf770f3",
   "metadata": {},
   "source": [
    "Q5. How are measures of dispersion such as range, variance, and standard deviation used to describe\n",
    "the spread of a dataset? Provide an example."
   ]
  },
  {
   "cell_type": "code",
   "execution_count": 49,
   "id": "d47beaa3-6de8-45b8-871b-b03580a65df0",
   "metadata": {},
   "outputs": [],
   "source": [
    "## In statistics, measures of dispersion(range, variance and standard deviation) are used to understand the variability of data, indicating how homogeneous or heterogeneous the data is\n",
    "## range; -- Example: 1,2,3,4,5,6,7 ; N = 7\n",
    "##                    Range = Highest value – Lowest value \n",
    "##                          = ( 7 – 1 ) = 6 \n",
    "##                    Mean(μ) = 4\n",
    "##                    variance = (σ2) = ∑ ( X − μ)2 / N \n",
    "##                    Standard Deviation = √σ "
   ]
  },
  {
   "cell_type": "markdown",
   "id": "c0708dfb-e268-4bf8-a296-6ff072307e03",
   "metadata": {},
   "source": [
    "Q6. What is a Venn diagram?"
   ]
  },
  {
   "cell_type": "code",
   "execution_count": 32,
   "id": "b473dcad-338c-4cf8-bc1a-3b5f5fccc5e9",
   "metadata": {},
   "outputs": [],
   "source": [
    "## A Venn diagram is an illustration that uses circles to show the relationships among things or finite groups of things. Circles that overlap have a commonality, while circles that do not overlap do not share those traits"
   ]
  },
  {
   "cell_type": "markdown",
   "id": "d753b382-f86f-4445-8b00-80b34b0f01bd",
   "metadata": {},
   "source": [
    "Q7. For the two given sets A = (2,3,4,5,6,7) & B = (0,2,6,8,10). Find:\n",
    "\n",
    "\n",
    "(i) AnB\n",
    "\n",
    "\n",
    "(ii) A ⋃ B"
   ]
  },
  {
   "cell_type": "code",
   "execution_count": 33,
   "id": "ea1e4de1-f23f-4a18-8b93-206510560e5d",
   "metadata": {},
   "outputs": [],
   "source": [
    "## AnB = (2)\n",
    "## A U B = (0,2,3,4,5,6,7,8,10)"
   ]
  },
  {
   "cell_type": "markdown",
   "id": "28662508-b565-470e-a890-3e22bdc501da",
   "metadata": {},
   "source": [
    "Q8. What do you understand about skewness in data?"
   ]
  },
  {
   "cell_type": "code",
   "execution_count": 35,
   "id": "0593fe84-8c14-413e-bc52-c41a57e1e823",
   "metadata": {},
   "outputs": [],
   "source": [
    "## Skewness in data is a measure of the distortion of symmetrical distribution or asymmetry in a data set. It is demonstrated on a bell curve when data points are not distributed symmetrically to the left and right sides of the median on a bell curve."
   ]
  },
  {
   "cell_type": "markdown",
   "id": "523fbed2-ac6e-4c2d-8048-03c5269dffc5",
   "metadata": {},
   "source": [
    "Q9. If a data is right skewed then what will be the position of median with respect to mean?"
   ]
  },
  {
   "cell_type": "code",
   "execution_count": 36,
   "id": "a5c68fc8-227c-405a-8f62-2f7e250ac9f4",
   "metadata": {},
   "outputs": [],
   "source": [
    "## The position of Median is left with respect to mean ."
   ]
  },
  {
   "cell_type": "markdown",
   "id": "c3e76192-9762-4089-972d-d7555ac5959b",
   "metadata": {},
   "source": [
    "Q10. Explain the difference between covariance and correlation. How are these measures used in\n",
    "statistical analysis?"
   ]
  },
  {
   "cell_type": "code",
   "execution_count": null,
   "id": "046ce641-69b0-402d-bb84-2fe54246817c",
   "metadata": {},
   "outputs": [],
   "source": [
    "##Covariance:- It is a statistical term that refers to a systematic relationship between two random variables in which a change in the other reflects a change in one variable.\n",
    "##Correlation:- correlation is a measure that determines the degree to which two or more random variables move in sequence.\n",
    "## There are used to measure spread of graph from their central tendency "
   ]
  },
  {
   "cell_type": "markdown",
   "id": "741029a2-d8d5-4a87-809a-a58e445a90a4",
   "metadata": {},
   "source": [
    "Q11. What is the formula for calculating the sample mean? Provide an example calculation for a\n",
    "dataset."
   ]
  },
  {
   "cell_type": "code",
   "execution_count": 38,
   "id": "9a00608c-6eaf-4fa9-a9c4-b678eb34def1",
   "metadata": {},
   "outputs": [],
   "source": [
    "## Mean = (sum of all data/ No. of data).\n",
    "## Example -- data = {1,2,3,4,5,}\n",
    "##            Mean = (1+2+3+4+5/5) = 15/5 = 3   "
   ]
  },
  {
   "cell_type": "markdown",
   "id": "bf6b9019-904b-4b1e-bfe9-5f5d85690101",
   "metadata": {},
   "source": [
    "Q12. For a normal distribution data what is the relationship between its measure of central tendency?"
   ]
  },
  {
   "cell_type": "code",
   "execution_count": 39,
   "id": "a8f90b93-8583-415f-ae5e-b68df01e7ce7",
   "metadata": {},
   "outputs": [],
   "source": [
    "## Mean = Meadian = Mode."
   ]
  },
  {
   "cell_type": "markdown",
   "id": "40df3c99-7a73-4bb8-9877-7a2371e46d93",
   "metadata": {},
   "source": [
    "Q13. How is covariance different from correlation?"
   ]
  },
  {
   "cell_type": "code",
   "execution_count": 40,
   "id": "a6e09506-cf2b-4f0c-8d73-c8e6fb832ef5",
   "metadata": {},
   "outputs": [],
   "source": [
    "##Correlation coefficients are standardized, displaying an absolute value within a definite range from -1 to 1,\n",
    "##while covariance ranges from zero, in the case of two independent variables, to Var(X), in the case where the two sets of data are equal"
   ]
  },
  {
   "cell_type": "markdown",
   "id": "066f87f9-57cd-4adc-98fa-024c1fbe3458",
   "metadata": {},
   "source": [
    "Q14. How do outliers affect measures of central tendency and dispersion? Provide an example."
   ]
  },
  {
   "cell_type": "code",
   "execution_count": 46,
   "id": "0c5278ca-22aa-4758-a28b-1bd16f463399",
   "metadata": {},
   "outputs": [],
   "source": [
    "##Outliers can affect measures of central tendency and dispersion. In a symmetrical distribution, the mean and median find the center accurately and are approximately equal, while in a skewed distribution, the outliers in the tail pull the mean away from the center towards the longer tail.\n"
   ]
  },
  {
   "cell_type": "code",
   "execution_count": 47,
   "id": "336b5120-4e20-4fdc-9ffa-a239f2af99ab",
   "metadata": {},
   "outputs": [
    {
     "data": {
      "text/plain": [
       "3.0"
      ]
     },
     "execution_count": 47,
     "metadata": {},
     "output_type": "execute_result"
    }
   ],
   "source": [
    "##Example:--\n",
    "x =[1,2,3,4,5]\n",
    "arr2 = np.array(x)\n",
    "Median = np.median(arr2)\n",
    "Median\n"
   ]
  },
  {
   "cell_type": "code",
   "execution_count": 48,
   "id": "6035d750-879d-4651-aeec-f39fb134bb68",
   "metadata": {},
   "outputs": [
    {
     "data": {
      "text/plain": [
       "3.5"
      ]
     },
     "execution_count": 48,
     "metadata": {},
     "output_type": "execute_result"
    }
   ],
   "source": [
    "## let's introduce outlier = 100 in x\n",
    "X = [1,2,3,4,5,100]\n",
    "arr3 = np.array(X)\n",
    "Median = np.median(arr3)\n",
    "Median"
   ]
  },
  {
   "cell_type": "code",
   "execution_count": null,
   "id": "ebfe0568-66b8-44b6-93c3-6b8de29c0d94",
   "metadata": {},
   "outputs": [],
   "source": []
  }
 ],
 "metadata": {
  "kernelspec": {
   "display_name": "Python 3 (ipykernel)",
   "language": "python",
   "name": "python3"
  },
  "language_info": {
   "codemirror_mode": {
    "name": "ipython",
    "version": 3
   },
   "file_extension": ".py",
   "mimetype": "text/x-python",
   "name": "python",
   "nbconvert_exporter": "python",
   "pygments_lexer": "ipython3",
   "version": "3.10.8"
  }
 },
 "nbformat": 4,
 "nbformat_minor": 5
}
